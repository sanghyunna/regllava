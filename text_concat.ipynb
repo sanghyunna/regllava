{
 "cells": [
  {
   "cell_type": "code",
   "execution_count": 2,
   "id": "a1a0f8c1",
   "metadata": {},
   "outputs": [
    {
     "name": "stdout",
     "output_type": "stream",
     "text": [
      "Concatenated 7 files and saved to result.txt\n"
     ]
    }
   ],
   "source": [
    "def concatenate_files(paths, prefix=\"\", suffix=\"\", output_path=\"result.txt\"):\n",
    "    \"\"\"\n",
    "    Concatenate contents of multiple files with prefix and suffix added to each file's content.\n",
    "    \n",
    "    Args:\n",
    "        paths (list): List of file paths to read from\n",
    "        prefix (str): Text to add before each file's content\n",
    "        suffix (str): Text to add after each file's content\n",
    "        output_path (str): Path to save the concatenated result\n",
    "    \"\"\"\n",
    "    result = []\n",
    "    \n",
    "    for path in paths:\n",
    "        try:\n",
    "            with open(path, 'r', encoding='utf-8') as file:\n",
    "                content = file.read()\n",
    "                result.append(prefix + f\"<file : {path}>\\n\" + content + suffix)\n",
    "        except Exception as e:\n",
    "            print(f\"Error reading file {path}: {str(e)}\")\n",
    "    \n",
    "    msg = \"- 수정할 부분은 블럭단위 혹은 함수단위 중 작은 것을 골라 전문을 생략없이 제공하는 것을 원칙으로 한다. \\n \\\n",
    "            - 특정 코드를 수정할 때에는 다른 코드의 삭제 또는 수정을 최소화하도록 한다. \\n \\\n",
    "            - 눈 앞에 급급하게 보이는 현상만을 처리하려 하지 말고, 근본적인 이유를 고민해본다. \\n\"\n",
    "    result.append(msg)\n",
    "\n",
    "\n",
    "    # Write the concatenated result to output file\n",
    "    with open(output_path, 'w', encoding='utf-8') as output_file:\n",
    "        output_file.write(''.join(result))\n",
    "    \n",
    "    print(f\"Concatenated {len(paths)} files and saved to {output_path}\")\n",
    "\n",
    "\n",
    "file_paths = [\n",
    "    \"llava-v1.5-7b-local/config.json\",\n",
    "    \"llava/model/builder.py\",\n",
    "    \"llava/model/multimodal_encoder/builder.py\",\n",
    "    \"llava/model/language_model/llava_llama.py\",\n",
    "    \"INFERclipregXGATED/model.py\",\n",
    "    \"llava/mm_utils.py\",\n",
    "    \"llava/model/multimodal_encoder/clip_encoder.py\",\n",
    "    ]\n",
    "concatenate_files(file_paths, prefix=\"\", suffix=\"\\n</file>\\n\", output_path=\"result.txt\")"
   ]
  },
  {
   "cell_type": "code",
   "execution_count": null,
   "id": "014054b8",
   "metadata": {},
   "outputs": [],
   "source": []
  }
 ],
 "metadata": {
  "kernelspec": {
   "display_name": "regllava_fresh",
   "language": "python",
   "name": "python3"
  },
  "language_info": {
   "codemirror_mode": {
    "name": "ipython",
    "version": 3
   },
   "file_extension": ".py",
   "mimetype": "text/x-python",
   "name": "python",
   "nbconvert_exporter": "python",
   "pygments_lexer": "ipython3",
   "version": "3.11.11"
  }
 },
 "nbformat": 4,
 "nbformat_minor": 5
}
